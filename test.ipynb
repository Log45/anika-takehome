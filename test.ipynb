{
 "cells": [
  {
   "cell_type": "code",
   "execution_count": 35,
   "metadata": {},
   "outputs": [],
   "source": [
    "import arxiv\n",
    "from langchain.text_splitter import RecursiveCharacterTextSplitter\n",
    "from langchain.vectorstores import FAISS\n",
    "from langchain.embeddings import HuggingFaceEmbeddings, OpenAIEmbeddings\n",
    "from langchain.llms import OpenAIChat\n",
    "from langchain.document_loaders import TextLoader\n",
    "from typing import List, Dict, Union, Any"
   ]
  },
  {
   "cell_type": "code",
   "execution_count": 39,
   "metadata": {},
   "outputs": [],
   "source": [
    "client = arxiv.Client() # instantiate a global client\n",
    "def search_arxiv_simple(query: str, max_results: int = 10, prefix: str = \"all\") -> arxiv.Search:\n",
    "    \"\"\"Function to search arxiv for a simple query including only one prefix. \n",
    "\n",
    "    Args:\n",
    "        query (str): String of plaintext to search for. \n",
    "        max_results (int, optional): Max number of results to return. Defaults to 10.\n",
    "        prefix (str, optional): Prefix to determine what to search for. Defaults to \"all\".\n",
    "                                Options: \"all\", \"ti\", \"au\", \"cat\", \"jr\", \"abs\", \"rn\", \"co\"\n",
    "\n",
    "    Returns:\n",
    "        arxiv.Search: Representation of the search query query.\n",
    "    \"\"\"\n",
    "    query = f'{prefix}:\"{query}\"'\n",
    "    search = arxiv.Search(\n",
    "        query=query,\n",
    "        max_results=max_results,\n",
    "        sort_by=arxiv.SortCriterion.Relevance,\n",
    "        sort_order=arxiv.SortOrder.Descending,\n",
    "    )\n",
    "    # print(search)\n",
    "    return search\n",
    "\n",
    "def search_arxiv_advanced(queries: List[str], ignore_list: List[str] = [], max_results: int = 10) -> arxiv.Search:\n",
    "    \"\"\"Function to do an advanced search of arxiv. Queries are ANDed together, ignore_list is ORed together.\n",
    "    Queries and ignore_list MUST INCLUDE PREFIXES. \n",
    "\n",
    "    Args:\n",
    "        queries (List[str]): List of formatted queries to AND together.\n",
    "        ignore_list (List[str]): List of formatted queries to ignore.\n",
    "        max_results (int, optional): Max number of results to return. Defaults to 10.\n",
    "\n",
    "    Returns:\n",
    "        arxiv.Search: Representation of the search query query.\n",
    "    \"\"\"\n",
    "    query = \" AND \".join(queries)\n",
    "    if ignore_list:\n",
    "        ignore_query = \" OR \".join(ignore_list)\n",
    "        query = f\"({query}) ANDNOT ({ignore_query})\"\n",
    "    search = arxiv.Search(\n",
    "        query=query,\n",
    "        max_results=max_results,\n",
    "        sort_by=arxiv.SortCriterion.Relevance,\n",
    "        sort_order=arxiv.SortOrder.Descending,\n",
    "    )\n",
    "    return search\n"
   ]
  },
  {
   "cell_type": "code",
   "execution_count": 37,
   "metadata": {},
   "outputs": [
    {
     "name": "stdout",
     "output_type": "stream",
     "text": [
      "Changing Data Sources in the Age of Machine Learning for Official Statistics\n",
      "DOME: Recommendations for supervised machine learning validation in biology\n",
      "Active learning for data streams: a survey\n",
      "Emotion in Reinforcement Learning Agents and Robots: A Survey\n",
      "Learning Curves for Decision Making in Supervised Machine Learning: A Survey\n",
      "Physics-Inspired Interpretability Of Machine Learning Models\n",
      "Learning Representations from Dendrograms\n",
      "Transfer Learning with Pre-trained Conditional Generative Models\n",
      "Privacy-preserving machine learning for healthcare: open challenges and future perspectives\n",
      "Unsupervised Representation Learning with Minimax Distance Measures\n"
     ]
    }
   ],
   "source": [
    "search = search_arxiv_simple(\"machine learning\")\n",
    "results = client.results(search)\n",
    "res = list(results)\n",
    "for r in res:\n",
    "    print(r.title)"
   ]
  },
  {
   "cell_type": "code",
   "execution_count": 44,
   "metadata": {},
   "outputs": [
    {
     "name": "stdout",
     "output_type": "stream",
     "text": [
      "(all:electron AND all:quantum) ANDNOT (all:dots OR all:nuclear)\n",
      "Electron quantum optics as quantum signal processing\n",
      "Towards quantum optics and entanglement with electron spin ensembles in semiconductors\n",
      "Quantum Technology for Military Applications\n",
      "Levitons for electron quantum optics\n",
      "Quantum Interference of Force\n",
      "A geometrical meaning to the electron mass from breakdown of Lorentz invariance\n",
      "Adaptive Measurements in the Optical Quantum Information Laboratory\n",
      "A sparse spin qubit array with integrated control electronics\n",
      "Quantum state preparation for multivariate functions\n",
      "Impact of conditional modelling for a universal autoregressive quantum state\n"
     ]
    }
   ],
   "source": [
    "search = search_arxiv_advanced(['all:electron', 'all:quantum'], ['all:dots', 'all:nuclear'])\n",
    "results = client.results(search)\n",
    "res = list(results)\n",
    "for r in res:\n",
    "    print(r.title)"
   ]
  },
  {
   "cell_type": "code",
   "execution_count": 34,
   "metadata": {},
   "outputs": [
    {
     "name": "stdout",
     "output_type": "stream",
     "text": [
      "Changing Data Sources in the Age of Machine Learning for Official Statistics\n",
      "DOME: Recommendations for supervised machine learning validation in biology\n",
      "Active learning for data streams: a survey\n",
      "Emotion in Reinforcement Learning Agents and Robots: A Survey\n",
      "Learning Curves for Decision Making in Supervised Machine Learning: A Survey\n",
      "Physics-Inspired Interpretability Of Machine Learning Models\n",
      "Learning Representations from Dendrograms\n",
      "Transfer Learning with Pre-trained Conditional Generative Models\n",
      "Privacy-preserving machine learning for healthcare: open challenges and future perspectives\n",
      "Unsupervised Representation Learning with Minimax Distance Measures\n"
     ]
    }
   ],
   "source": [
    "\"\"\"all:electron AND all:quantum\n",
    "Electron flow in circular graphene quantum dots\n",
    "Electron quantum optics as quantum signal processing\n",
    "Quantum information processing using nuclear and electron magnetic resonance: review and prospects\n",
    "Towards quantum optics and entanglement with electron spin ensembles in semiconductors\n",
    "Room temperature observation of electron resonant tunneling through InAs/AlAs quantum dots\n",
    "Quantum Computing and Quantum Simulation with Group-II Atoms\n",
    "Quantum Technology for Military Applications\n",
    "Levitons for electron quantum optics\n",
    "Protecting coherence from the environment via Stark many-body localization in a Quantum-Dot Simulator\n",
    "Quantum Interference of Force\"\"\""
   ]
  }
 ],
 "metadata": {
  "kernelspec": {
   "display_name": ".venv",
   "language": "python",
   "name": "python3"
  },
  "language_info": {
   "codemirror_mode": {
    "name": "ipython",
    "version": 3
   },
   "file_extension": ".py",
   "mimetype": "text/x-python",
   "name": "python",
   "nbconvert_exporter": "python",
   "pygments_lexer": "ipython3",
   "version": "3.12.0"
  }
 },
 "nbformat": 4,
 "nbformat_minor": 2
}
